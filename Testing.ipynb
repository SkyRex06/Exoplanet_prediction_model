{
 "cells": [
  {
   "cell_type": "code",
   "execution_count": 19,
   "id": "0fd52ed7-2d72-4a80-aab8-afe20c6eb01d",
   "metadata": {},
   "outputs": [
    {
     "name": "stdout",
     "output_type": "stream",
     "text": [
      "         kepid kepoi_name    kepler_name      prediction\n",
      "9004   7537660  K06884.01            NaN       CONFIRMED\n",
      "5028   3219037  K03395.01            NaN  FALSE POSITIVE\n",
      "1142   9729691  K01751.01   Kepler-949 b  FALSE POSITIVE\n",
      "1355   7697568  K01829.01            NaN  FALSE POSITIVE\n",
      "8740   9005854  K07121.01            NaN  FALSE POSITIVE\n",
      "1432   9649706  K02049.01  Kepler-1072 b  FALSE POSITIVE\n",
      "1770  10863608  K02368.01  Kepler-1210 b  FALSE POSITIVE\n",
      "3465  10418797  K00741.01            NaN  FALSE POSITIVE\n",
      "3999   7259249  K04237.01            NaN  FALSE POSITIVE\n",
      "5418   6531143  K07784.01            NaN  FALSE POSITIVE\n"
     ]
    }
   ],
   "source": [
    "import pandas as pd\n",
    "import joblib\n",
    "\n",
    "df = pd.read_csv(\"input data.csv\")\n",
    "\n",
    "pipeline = joblib.load(\"rf_pipeline.pkl\")\n",
    "sample = df.sample(10, random_state=42)\n",
    "preds = pipeline.predict(sample)\n",
    "results = sample[[\"kepid\", \"kepoi_name\", \"kepler_name\"]].copy()\n",
    "results[\"prediction\"] = [\"CONFIRMED\" if p==1 else \"FALSE POSITIVE\" for p in preds]\n",
    "\n",
    "print(results)\n"
   ]
  },
  {
   "cell_type": "code",
   "execution_count": null,
   "id": "fa62b1a3-785c-4c29-976f-5f9ea09a92e9",
   "metadata": {},
   "outputs": [],
   "source": []
  },
  {
   "cell_type": "code",
   "execution_count": null,
   "id": "e2836092-5d20-4d42-8174-419080545826",
   "metadata": {},
   "outputs": [],
   "source": []
  }
 ],
 "metadata": {
  "kernelspec": {
   "display_name": "Python [conda env:base] *",
   "language": "python",
   "name": "conda-base-py"
  },
  "language_info": {
   "codemirror_mode": {
    "name": "ipython",
    "version": 3
   },
   "file_extension": ".py",
   "mimetype": "text/x-python",
   "name": "python",
   "nbconvert_exporter": "python",
   "pygments_lexer": "ipython3",
   "version": "3.13.5"
  }
 },
 "nbformat": 4,
 "nbformat_minor": 5
}
